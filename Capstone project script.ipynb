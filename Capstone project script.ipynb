{
    "nbformat_minor": 1, 
    "cells": [
        {
            "source": "# Capstone Project\n# Propective Community College locations in Chicago", 
            "cell_type": "markdown", 
            "metadata": {
                "collapsed": true
            }
        }, 
        {
            "source": "", 
            "cell_type": "markdown", 
            "metadata": {}
        }, 
        {
            "source": "", 
            "cell_type": "markdown", 
            "metadata": {}
        }, 
        {
            "source": "", 
            "cell_type": "markdown", 
            "metadata": {}
        }, 
        {
            "execution_count": null, 
            "cell_type": "code", 
            "metadata": {}, 
            "outputs": [], 
            "source": ""
        }, 
        {
            "execution_count": null, 
            "cell_type": "code", 
            "metadata": {}, 
            "outputs": [], 
            "source": ""
        }, 
        {
            "execution_count": null, 
            "cell_type": "code", 
            "metadata": {}, 
            "outputs": [], 
            "source": ""
        }, 
        {
            "execution_count": null, 
            "cell_type": "code", 
            "metadata": {}, 
            "outputs": [], 
            "source": "#import all libraries needed"
        }, 
        {
            "execution_count": 1, 
            "cell_type": "code", 
            "metadata": {}, 
            "outputs": [
                {
                    "output_type": "stream", 
                    "name": "stdout", 
                    "text": "Solving environment: done\n\n## Package Plan ##\n\n  environment location: /opt/conda/envs/Python36\n\n  added / updated specs: \n    - geopy\n\n\nThe following packages will be downloaded:\n\n    package                    |            build\n    ---------------------------|-----------------\n    certifi-2019.9.11          |           py36_0         147 KB  conda-forge\n    geopy-1.20.0               |             py_0          57 KB  conda-forge\n    ca-certificates-2019.9.11  |       hecc5488_0         144 KB  conda-forge\n    openssl-1.1.1c             |       h516909a_0         2.1 MB  conda-forge\n    geographiclib-1.50         |             py_0          34 KB  conda-forge\n    ------------------------------------------------------------\n                                           Total:         2.5 MB\n\nThe following NEW packages will be INSTALLED:\n\n    geographiclib:   1.50-py_0         conda-forge\n    geopy:           1.20.0-py_0       conda-forge\n\nThe following packages will be UPDATED:\n\n    ca-certificates: 2019.8.28-0                   --> 2019.9.11-hecc5488_0 conda-forge\n    certifi:         2019.9.11-py36_0              --> 2019.9.11-py36_0     conda-forge\n\nThe following packages will be DOWNGRADED:\n\n    openssl:         1.1.1d-h7b6447c_2             --> 1.1.1c-h516909a_0    conda-forge\n\n\nDownloading and Extracting Packages\ncertifi-2019.9.11    | 147 KB    | ##################################### | 100% \ngeopy-1.20.0         | 57 KB     | ##################################### | 100% \nca-certificates-2019 | 144 KB    | ##################################### | 100% \nopenssl-1.1.1c       | 2.1 MB    | ##################################### | 100% \ngeographiclib-1.50   | 34 KB     | ##################################### | 100% \nPreparing transaction: done\nVerifying transaction: done\nExecuting transaction: done\nSolving environment: done\n\n## Package Plan ##\n\n  environment location: /opt/conda/envs/Python36\n\n  added / updated specs: \n    - folium=0.5.0\n\n\nThe following packages will be downloaded:\n\n    package                    |            build\n    ---------------------------|-----------------\n    folium-0.5.0               |             py_0          45 KB  conda-forge\n    altair-3.2.0               |           py36_0         770 KB  conda-forge\n    branca-0.3.1               |             py_0          25 KB  conda-forge\n    vincent-0.4.4              |             py_1          28 KB  conda-forge\n    ------------------------------------------------------------\n                                           Total:         868 KB\n\nThe following NEW packages will be INSTALLED:\n\n    altair:  3.2.0-py36_0 conda-forge\n    branca:  0.3.1-py_0   conda-forge\n    folium:  0.5.0-py_0   conda-forge\n    vincent: 0.4.4-py_1   conda-forge\n\n\nDownloading and Extracting Packages\nfolium-0.5.0         | 45 KB     | ##################################### | 100% \naltair-3.2.0         | 770 KB    | ##################################### | 100% \nbranca-0.3.1         | 25 KB     | ##################################### | 100% \nvincent-0.4.4        | 28 KB     | ##################################### | 100% \nPreparing transaction: done\nVerifying transaction: done\nExecuting transaction: done\nFolium installed\nLibraries imported.\n"
                }
            ], 
            "source": "import requests # library to handle requests\nimport pandas as pd # library for data analsysis\nimport numpy as np # library to handle data in a vectorized manner\nimport random # library for random number generation\n\n!conda install -c conda-forge geopy --yes \nfrom geopy.geocoders import Nominatim # module to convert an address into latitude and longitude values\n\n# libraries for displaying images\nfrom IPython.display import Image \nfrom IPython.core.display import HTML \n    \n# tranforming json file into a pandas dataframe library\nfrom pandas.io.json import json_normalize\n\n!conda install -c conda-forge folium=0.5.0 --yes\nimport folium # plotting library\n\nprint('Folium installed')\nprint('Libraries imported.')"
        }, 
        {
            "execution_count": 3, 
            "cell_type": "code", 
            "metadata": {}, 
            "outputs": [
                {
                    "output_type": "stream", 
                    "name": "stdout", 
                    "text": "Your credentails:\nCLIENT_ID: SSWCFOUOB0WOECC1NNHRZQAVPMI3EY4UOC1LWS4YFJVTKFEF\nCLIENT_SECRET:QVGIRPWYW33KOE403CS0K3C2BSED1ZOCRVJHIX0GICG434QE\n"
                }
            ], 
            "source": "#set up the foursquare crediantials\nCLIENT_ID = 'SSWCFOUOB0WOECC1NNHRZQAVPMI3EY4UOC1LWS4YFJVTKFEF' # your Foursquare ID\nCLIENT_SECRET = 'QVGIRPWYW33KOE403CS0K3C2BSED1ZOCRVJHIX0GICG434QE' # your Foursquare Secret\nVERSION = '20180604'\nLIMIT = 30\nprint('Your credentails:')\nprint('CLIENT_ID: ' + CLIENT_ID)\nprint('CLIENT_SECRET:' + CLIENT_SECRET)\n"
        }, 
        {
            "execution_count": 4, 
            "cell_type": "code", 
            "metadata": {}, 
            "outputs": [
                {
                    "execution_count": 4, 
                    "metadata": {}, 
                    "data": {
                        "text/html": "<div>\n<style scoped>\n    .dataframe tbody tr th:only-of-type {\n        vertical-align: middle;\n    }\n\n    .dataframe tbody tr th {\n        vertical-align: top;\n    }\n\n    .dataframe thead th {\n        text-align: right;\n    }\n</style>\n<table border=\"1\" class=\"dataframe\">\n  <thead>\n    <tr style=\"text-align: right;\">\n      <th></th>\n      <th>Community Area Number</th>\n      <th>COMMUNITY AREA NAME</th>\n      <th>PERCENT OF HOUSING CROWDED</th>\n      <th>PERCENT HOUSEHOLDS BELOW POVERTY</th>\n      <th>PERCENT AGED 16+ UNEMPLOYED</th>\n      <th>PERCENT AGED 25+ WITHOUT HIGH SCHOOL DIPLOMA</th>\n      <th>PERCENT AGED UNDER 18 OR OVER 64</th>\n      <th>PER CAPITA INCOME</th>\n      <th>HARDSHIP INDEX</th>\n    </tr>\n  </thead>\n  <tbody>\n    <tr>\n      <th>0</th>\n      <td>1.0</td>\n      <td>Rogers Park</td>\n      <td>7.7</td>\n      <td>23.6</td>\n      <td>8.7</td>\n      <td>18.2</td>\n      <td>27.5</td>\n      <td>23939</td>\n      <td>39.0</td>\n    </tr>\n    <tr>\n      <th>1</th>\n      <td>2.0</td>\n      <td>West Ridge</td>\n      <td>7.8</td>\n      <td>17.2</td>\n      <td>8.8</td>\n      <td>20.8</td>\n      <td>38.5</td>\n      <td>23040</td>\n      <td>46.0</td>\n    </tr>\n    <tr>\n      <th>2</th>\n      <td>3.0</td>\n      <td>Uptown</td>\n      <td>3.8</td>\n      <td>24.0</td>\n      <td>8.9</td>\n      <td>11.8</td>\n      <td>22.2</td>\n      <td>35787</td>\n      <td>20.0</td>\n    </tr>\n    <tr>\n      <th>3</th>\n      <td>4.0</td>\n      <td>Lincoln Square</td>\n      <td>3.4</td>\n      <td>10.9</td>\n      <td>8.2</td>\n      <td>13.4</td>\n      <td>25.5</td>\n      <td>37524</td>\n      <td>17.0</td>\n    </tr>\n    <tr>\n      <th>4</th>\n      <td>5.0</td>\n      <td>North Center</td>\n      <td>0.3</td>\n      <td>7.5</td>\n      <td>5.2</td>\n      <td>4.5</td>\n      <td>26.2</td>\n      <td>57123</td>\n      <td>6.0</td>\n    </tr>\n  </tbody>\n</table>\n</div>", 
                        "text/plain": "   Community Area Number COMMUNITY AREA NAME  PERCENT OF HOUSING CROWDED  \\\n0                    1.0         Rogers Park                         7.7   \n1                    2.0          West Ridge                         7.8   \n2                    3.0              Uptown                         3.8   \n3                    4.0      Lincoln Square                         3.4   \n4                    5.0        North Center                         0.3   \n\n   PERCENT HOUSEHOLDS BELOW POVERTY  PERCENT AGED 16+ UNEMPLOYED  \\\n0                              23.6                          8.7   \n1                              17.2                          8.8   \n2                              24.0                          8.9   \n3                              10.9                          8.2   \n4                               7.5                          5.2   \n\n   PERCENT AGED 25+ WITHOUT HIGH SCHOOL DIPLOMA  \\\n0                                          18.2   \n1                                          20.8   \n2                                          11.8   \n3                                          13.4   \n4                                           4.5   \n\n   PERCENT AGED UNDER 18 OR OVER 64  PER CAPITA INCOME   HARDSHIP INDEX  \n0                              27.5               23939            39.0  \n1                              38.5               23040            46.0  \n2                              22.2               35787            20.0  \n3                              25.5               37524            17.0  \n4                              26.2               57123             6.0  "
                    }, 
                    "output_type": "execute_result"
                }
            ], 
            "source": "#read in the csv on the hardship index\ndf = pd.read_csv(\"https://data.cityofchicago.org/api/views/b7zw-zvm2/rows.csv?accessType=DOWNLOAD\")\n\ndf.head()"
        }, 
        {
            "execution_count": 5, 
            "cell_type": "code", 
            "metadata": {}, 
            "outputs": [
                {
                    "output_type": "stream", 
                    "name": "stderr", 
                    "text": "/opt/conda/envs/Python36/lib/python3.6/site-packages/ipykernel/__main__.py:3: SettingWithCopyWarning: \nA value is trying to be set on a copy of a slice from a DataFrame.\nTry using .loc[row_indexer,col_indexer] = value instead\n\nSee the caveats in the documentation: http://pandas.pydata.org/pandas-docs/stable/indexing.html#indexing-view-versus-copy\n  app.launch_new_instance()\n"
                }, 
                {
                    "execution_count": 5, 
                    "metadata": {}, 
                    "data": {
                        "text/html": "<div>\n<style scoped>\n    .dataframe tbody tr th:only-of-type {\n        vertical-align: middle;\n    }\n\n    .dataframe tbody tr th {\n        vertical-align: top;\n    }\n\n    .dataframe thead th {\n        text-align: right;\n    }\n</style>\n<table border=\"1\" class=\"dataframe\">\n  <thead>\n    <tr style=\"text-align: right;\">\n      <th></th>\n      <th>COMMUNITY AREA NAME</th>\n      <th>HARDSHIP INDEX</th>\n    </tr>\n  </thead>\n  <tbody>\n    <tr>\n      <th>22</th>\n      <td>Humboldt park</td>\n      <td>85.0</td>\n    </tr>\n    <tr>\n      <th>25</th>\n      <td>West Garfield Park</td>\n      <td>92.0</td>\n    </tr>\n    <tr>\n      <th>26</th>\n      <td>East Garfield Park</td>\n      <td>83.0</td>\n    </tr>\n    <tr>\n      <th>28</th>\n      <td>North Lawndale</td>\n      <td>87.0</td>\n    </tr>\n    <tr>\n      <th>29</th>\n      <td>South Lawndale</td>\n      <td>96.0</td>\n    </tr>\n    <tr>\n      <th>33</th>\n      <td>Armour Square</td>\n      <td>82.0</td>\n    </tr>\n    <tr>\n      <th>36</th>\n      <td>Fuller Park</td>\n      <td>97.0</td>\n    </tr>\n    <tr>\n      <th>39</th>\n      <td>Washington Park</td>\n      <td>88.0</td>\n    </tr>\n    <tr>\n      <th>53</th>\n      <td>Riverdale</td>\n      <td>98.0</td>\n    </tr>\n    <tr>\n      <th>57</th>\n      <td>Brighton Park</td>\n      <td>84.0</td>\n    </tr>\n    <tr>\n      <th>60</th>\n      <td>New City</td>\n      <td>91.0</td>\n    </tr>\n    <tr>\n      <th>62</th>\n      <td>Gage Park</td>\n      <td>93.0</td>\n    </tr>\n    <tr>\n      <th>66</th>\n      <td>West Englewood</td>\n      <td>89.0</td>\n    </tr>\n    <tr>\n      <th>67</th>\n      <td>Englewood</td>\n      <td>94.0</td>\n    </tr>\n  </tbody>\n</table>\n</div>", 
                        "text/plain": "   COMMUNITY AREA NAME  HARDSHIP INDEX\n22       Humboldt park            85.0\n25  West Garfield Park            92.0\n26  East Garfield Park            83.0\n28      North Lawndale            87.0\n29      South Lawndale            96.0\n33       Armour Square            82.0\n36         Fuller Park            97.0\n39     Washington Park            88.0\n53           Riverdale            98.0\n57       Brighton Park            84.0\n60            New City            91.0\n62           Gage Park            93.0\n66      West Englewood            89.0\n67           Englewood            94.0"
                    }, 
                    "output_type": "execute_result"
                }
            ], 
            "source": "#set the limit on the hardship\ndf1 = df[[\"COMMUNITY AREA NAME\", \"HARDSHIP INDEX\"]]\n\ndf1[\"HARDSHIP INDEX\"] = df1[df1[\"HARDSHIP INDEX\"] > 80][\"HARDSHIP INDEX\"]\n\ndf1.dropna()"
        }, 
        {
            "execution_count": null, 
            "cell_type": "code", 
            "metadata": {}, 
            "outputs": [], 
            "source": ""
        }, 
        {
            "execution_count": 6, 
            "cell_type": "code", 
            "metadata": {}, 
            "outputs": [
                {
                    "output_type": "stream", 
                    "name": "stdout", 
                    "text": "41.8180891 -87.6325508\n"
                }
            ], 
            "source": "#pick the centerpoint and locate its address\naddress = 'Fuller Park Chicago, IL 60609'\n\ngeolocator = Nominatim(user_agent=\"foursquare_agent\")\nlocation = geolocator.geocode(address)\nlatitude = location.latitude\nlongitude = location.longitude\nprint(latitude, longitude)"
        }, 
        {
            "execution_count": 7, 
            "cell_type": "code", 
            "metadata": {}, 
            "outputs": [
                {
                    "output_type": "stream", 
                    "name": "stdout", 
                    "text": "Community college .... OK!\n"
                }
            ], 
            "source": "#search for colleges within the chicago region\nsearch_query = 'Community college'\nradius = 20000\nprint(search_query + ' .... OK!')"
        }, 
        {
            "execution_count": 8, 
            "cell_type": "code", 
            "metadata": {}, 
            "outputs": [
                {
                    "execution_count": 8, 
                    "metadata": {}, 
                    "data": {
                        "text/plain": "'https://api.foursquare.com/v2/venues/search?client_id=SSWCFOUOB0WOECC1NNHRZQAVPMI3EY4UOC1LWS4YFJVTKFEF&client_secret=QVGIRPWYW33KOE403CS0K3C2BSED1ZOCRVJHIX0GICG434QE&ll=41.8180891,-87.6325508&v=20180604&query=Community college&radius=20000&limit=30'"
                    }, 
                    "output_type": "execute_result"
                }
            ], 
            "source": "url = 'https://api.foursquare.com/v2/venues/search?client_id={}&client_secret={}&ll={},{}&v={}&query={}&radius={}&limit={}'.format(CLIENT_ID, CLIENT_SECRET, latitude, longitude, VERSION, search_query, radius, LIMIT)\nurl"
        }, 
        {
            "execution_count": 9, 
            "cell_type": "code", 
            "metadata": {}, 
            "outputs": [], 
            "source": "results = requests.get(url).json()\n#results"
        }, 
        {
            "execution_count": 10, 
            "cell_type": "code", 
            "metadata": {}, 
            "outputs": [], 
            "source": "# assign relevant part of JSON to venues\nvenues = results['response']['venues']\n\n# tranform venues into a dataframe\ndataframe = json_normalize(venues)\n"
        }, 
        {
            "execution_count": 11, 
            "cell_type": "code", 
            "metadata": {}, 
            "outputs": [
                {
                    "execution_count": 11, 
                    "metadata": {}, 
                    "data": {
                        "text/html": "<div>\n<style scoped>\n    .dataframe tbody tr th:only-of-type {\n        vertical-align: middle;\n    }\n\n    .dataframe tbody tr th {\n        vertical-align: top;\n    }\n\n    .dataframe thead th {\n        text-align: right;\n    }\n</style>\n<table border=\"1\" class=\"dataframe\">\n  <thead>\n    <tr style=\"text-align: right;\">\n      <th></th>\n      <th>name</th>\n      <th>categories</th>\n      <th>address</th>\n      <th>cc</th>\n      <th>city</th>\n      <th>country</th>\n      <th>crossStreet</th>\n      <th>distance</th>\n      <th>formattedAddress</th>\n      <th>labeledLatLngs</th>\n      <th>lat</th>\n      <th>lng</th>\n      <th>neighborhood</th>\n      <th>postalCode</th>\n      <th>state</th>\n      <th>id</th>\n    </tr>\n  </thead>\n  <tbody>\n    <tr>\n      <th>0</th>\n      <td>Moraine Valley Community College</td>\n      <td>Community College</td>\n      <td>9000 W College Pkwy</td>\n      <td>US</td>\n      <td>Palos Hills</td>\n      <td>United States</td>\n      <td>NaN</td>\n      <td>22074</td>\n      <td>[9000 W College Pkwy, Palos Hills, IL 60465, U...</td>\n      <td>[{'label': 'display', 'lat': 41.69194156067703...</td>\n      <td>41.691942</td>\n      <td>-87.837641</td>\n      <td>NaN</td>\n      <td>60465</td>\n      <td>IL</td>\n      <td>49e0bafef964a52064611fe3</td>\n    </tr>\n    <tr>\n      <th>1</th>\n      <td>Oakton Community College</td>\n      <td>Community College</td>\n      <td>7701 Lincoln Ave</td>\n      <td>US</td>\n      <td>Skokie</td>\n      <td>United States</td>\n      <td>at Skokie Blvd</td>\n      <td>24576</td>\n      <td>[7701 Lincoln Ave (at Skokie Blvd), Skokie, IL...</td>\n      <td>[{'label': 'display', 'lat': 42.02095077792238...</td>\n      <td>42.020951</td>\n      <td>-87.749617</td>\n      <td>NaN</td>\n      <td>60077</td>\n      <td>IL</td>\n      <td>4adc63e1f964a520fe2b21e3</td>\n    </tr>\n    <tr>\n      <th>6</th>\n      <td>Moraine Valley Community College Southwest Edu...</td>\n      <td>Community College</td>\n      <td>NaN</td>\n      <td>US</td>\n      <td>Tinley Park</td>\n      <td>United States</td>\n      <td>NaN</td>\n      <td>22077</td>\n      <td>[Tinley Park, IL 60477, United States]</td>\n      <td>[{'label': 'display', 'lat': 41.69330344761157...</td>\n      <td>41.693303</td>\n      <td>-87.839183</td>\n      <td>NaN</td>\n      <td>60477</td>\n      <td>IL</td>\n      <td>4eb3f7f2991165b761c201f5</td>\n    </tr>\n    <tr>\n      <th>21</th>\n      <td>Everest College</td>\n      <td>Community College</td>\n      <td>247 S State St #400</td>\n      <td>US</td>\n      <td>Chicago</td>\n      <td>United States</td>\n      <td>btwn W Adams St &amp; E Jackson St</td>\n      <td>1082</td>\n      <td>[247 S State St #400 (btwn W Adams St &amp; E Jack...</td>\n      <td>[{'label': 'display', 'lat': 41.808377, 'lng':...</td>\n      <td>41.808377</td>\n      <td>-87.631822</td>\n      <td>NaN</td>\n      <td>60604</td>\n      <td>IL</td>\n      <td>4b8830bef964a5203ae631e3</td>\n    </tr>\n    <tr>\n      <th>22</th>\n      <td>Richard J. Daley College</td>\n      <td>Community College</td>\n      <td>7500 S Pulaski Rd</td>\n      <td>US</td>\n      <td>Chicago</td>\n      <td>United States</td>\n      <td>NaN</td>\n      <td>10264</td>\n      <td>[7500 S Pulaski Rd, Chicago, IL 60652, United ...</td>\n      <td>[{'label': 'display', 'lat': 41.75605576300383...</td>\n      <td>41.756056</td>\n      <td>-87.724051</td>\n      <td>NaN</td>\n      <td>60652</td>\n      <td>IL</td>\n      <td>4b71f4e2f964a52084662de3</td>\n    </tr>\n  </tbody>\n</table>\n</div>", 
                        "text/plain": "                                                 name         categories  \\\n0                    Moraine Valley Community College  Community College   \n1                            Oakton Community College  Community College   \n6   Moraine Valley Community College Southwest Edu...  Community College   \n21                                    Everest College  Community College   \n22                           Richard J. Daley College  Community College   \n\n                address  cc         city        country  \\\n0   9000 W College Pkwy  US  Palos Hills  United States   \n1      7701 Lincoln Ave  US       Skokie  United States   \n6                   NaN  US  Tinley Park  United States   \n21  247 S State St #400  US      Chicago  United States   \n22    7500 S Pulaski Rd  US      Chicago  United States   \n\n                       crossStreet  distance  \\\n0                              NaN     22074   \n1                   at Skokie Blvd     24576   \n6                              NaN     22077   \n21  btwn W Adams St & E Jackson St      1082   \n22                             NaN     10264   \n\n                                     formattedAddress  \\\n0   [9000 W College Pkwy, Palos Hills, IL 60465, U...   \n1   [7701 Lincoln Ave (at Skokie Blvd), Skokie, IL...   \n6              [Tinley Park, IL 60477, United States]   \n21  [247 S State St #400 (btwn W Adams St & E Jack...   \n22  [7500 S Pulaski Rd, Chicago, IL 60652, United ...   \n\n                                       labeledLatLngs        lat        lng  \\\n0   [{'label': 'display', 'lat': 41.69194156067703...  41.691942 -87.837641   \n1   [{'label': 'display', 'lat': 42.02095077792238...  42.020951 -87.749617   \n6   [{'label': 'display', 'lat': 41.69330344761157...  41.693303 -87.839183   \n21  [{'label': 'display', 'lat': 41.808377, 'lng':...  41.808377 -87.631822   \n22  [{'label': 'display', 'lat': 41.75605576300383...  41.756056 -87.724051   \n\n   neighborhood postalCode state                        id  \n0           NaN      60465    IL  49e0bafef964a52064611fe3  \n1           NaN      60077    IL  4adc63e1f964a520fe2b21e3  \n6           NaN      60477    IL  4eb3f7f2991165b761c201f5  \n21          NaN      60604    IL  4b8830bef964a5203ae631e3  \n22          NaN      60652    IL  4b71f4e2f964a52084662de3  "
                    }, 
                    "output_type": "execute_result"
                }
            ], 
            "source": "# keep only columns that include venue name, and anything that is associated with location\nfiltered_columns = ['name', 'categories'] + [col for col in dataframe.columns if col.startswith('location.')] + ['id']\ndataframe_filtered = dataframe.loc[:, filtered_columns]\n\n# function that extracts the category of the venue\ndef get_category_type(row):\n    try:\n        categories_list = row['categories']\n    except:\n        categories_list = row['venue.categories']\n        \n    if len(categories_list) == 0:\n        return None\n    else:\n        return categories_list[0]['name']\n\n# filter the category for each row\ndataframe_filtered['categories'] = dataframe_filtered.apply(get_category_type, axis=1)\n\n# clean column names by keeping only last term\ndataframe_filtered.columns = [column.split('.')[-1] for column in dataframe_filtered.columns]\n\n\ndataframe_filtered = dataframe_filtered[dataframe_filtered.categories == 'Community College']\ndataframe_filtered"
        }, 
        {
            "execution_count": 12, 
            "cell_type": "code", 
            "metadata": {}, 
            "outputs": [
                {
                    "execution_count": 12, 
                    "metadata": {}, 
                    "data": {
                        "text/html": "<div style=\"width:100%;\"><div style=\"position:relative;width:100%;height:0;padding-bottom:60%;\"><iframe src=\"data:text/html;charset=utf-8;base64,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\" style=\"position:absolute;width:100%;height:100%;left:0;top:0;border:none !important;\" allowfullscreen webkitallowfullscreen mozallowfullscreen></iframe></div></div>", 
                        "text/plain": "<folium.folium.Map at 0x7fc4f2204438>"
                    }, 
                    "output_type": "execute_result"
                }
            ], 
            "source": "#create a current map of the locations of the colleges\nvenues_map = folium.Map(location=[latitude, longitude], zoom_start=13) \n\n\nfolium.features.CircleMarker(\n    [latitude, longitude],\n    radius=10,\n    color='red',\n    popup='center',\n    fill = True,\n    fill_color = 'red',\n    fill_opacity = 0.6\n).add_to(venues_map)\n\n# add the Italian restaurants as blue circle markers\nfor lat, lng, label in zip(dataframe_filtered.lat, dataframe_filtered.lng, dataframe_filtered.categories):\n    folium.features.CircleMarker(\n        [lat, lng],\n        radius=5,\n        color='blue',\n        popup=label,\n        fill = True,\n        fill_color='blue',\n        fill_opacity=0.6\n    ).add_to(venues_map)\n\n# display map\nvenues_map"
        }, 
        {
            "execution_count": 13, 
            "cell_type": "code", 
            "metadata": {}, 
            "outputs": [], 
            "source": "#distance calculations\naverage_long = dataframe_filtered[\"lng\"].mean()\naverage_lat = dataframe_filtered[\"lat\"].mean()\n"
        }, 
        {
            "execution_count": 15, 
            "cell_type": "code", 
            "metadata": {
                "scrolled": true
            }, 
            "outputs": [
                {
                    "execution_count": 15, 
                    "metadata": {}, 
                    "data": {
                        "text/html": "<div style=\"width:100%;\"><div style=\"position:relative;width:100%;height:0;padding-bottom:60%;\"><iframe src=\"data:text/html;charset=utf-8;base64,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\" style=\"position:absolute;width:100%;height:100%;left:0;top:0;border:none !important;\" allowfullscreen webkitallowfullscreen mozallowfullscreen></iframe></div></div>", 
                        "text/plain": "<folium.folium.Map at 0x7fc4f21cd588>"
                    }, 
                    "output_type": "execute_result"
                }
            ], 
            "source": "#create a map showing the new location of the college\nvenues_map = folium.Map(location=[latitude, longitude], zoom_start=13) \n\n\nfolium.features.CircleMarker(\n    [latitude, longitude],\n    radius=10,\n    color='red',\n    popup='center',\n    fill = True,\n    fill_color = 'red',\n    fill_opacity = 0.6\n).add_to(venues_map)\n\nfolium.features.CircleMarker(\n    [average_lat, average_long],\n    radius=20,\n    color='green',\n    popup='new College',\n    fill = True,\n    fill_color = 'red',\n    fill_opacity = 0.6\n).add_to(venues_map)\n\n\n\n\n# add the Italian restaurants as blue circle markers\nfor lat, lng, label in zip(dataframe_filtered.lat, dataframe_filtered.lng, dataframe_filtered.categories):\n    folium.features.CircleMarker(\n        [lat, lng],\n        radius=5,\n        color='blue',\n        popup=label,\n        fill = True,\n        fill_color='blue',\n        fill_opacity=0.6\n    ).add_to(venues_map)\n\n# display map\nvenues_map"
        }, 
        {
            "execution_count": null, 
            "cell_type": "code", 
            "metadata": {}, 
            "outputs": [], 
            "source": ""
        }, 
        {
            "execution_count": null, 
            "cell_type": "code", 
            "metadata": {}, 
            "outputs": [], 
            "source": ""
        }, 
        {
            "execution_count": null, 
            "cell_type": "code", 
            "metadata": {}, 
            "outputs": [], 
            "source": ""
        }, 
        {
            "execution_count": null, 
            "cell_type": "code", 
            "metadata": {}, 
            "outputs": [], 
            "source": ""
        }
    ], 
    "metadata": {
        "kernelspec": {
            "display_name": "Python 3.6", 
            "name": "python3", 
            "language": "python"
        }, 
        "language_info": {
            "mimetype": "text/x-python", 
            "nbconvert_exporter": "python", 
            "version": "3.6.8", 
            "name": "python", 
            "file_extension": ".py", 
            "pygments_lexer": "ipython3", 
            "codemirror_mode": {
                "version": 3, 
                "name": "ipython"
            }
        }
    }, 
    "nbformat": 4
}